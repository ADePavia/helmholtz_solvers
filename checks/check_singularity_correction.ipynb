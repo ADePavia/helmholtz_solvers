{
 "cells": [
  {
   "cell_type": "code",
   "execution_count": 1,
   "id": "f06b8a69",
   "metadata": {},
   "outputs": [],
   "source": [
    "import numpy as np\n",
    "from scipy.special import hankel1\n",
    "from scipy.integrate import quad, dblquad\n",
    "import matplotlib.pyplot as plt\n",
    "import torch\n",
    "import sys"
   ]
  },
  {
   "cell_type": "code",
   "execution_count": 2,
   "id": "2e5205a5",
   "metadata": {},
   "outputs": [],
   "source": [
    "sys.path.append('..')"
   ]
  },
  {
   "cell_type": "code",
   "execution_count": 3,
   "id": "fc9a8705",
   "metadata": {},
   "outputs": [],
   "source": [
    "from src.lippmann_schwinger_eqn.solver_utils import (greensfunction2, greensfunction3, find_diag_correction)\n",
    "from src.lippmann_schwinger_eqn.HelmholtzSolver import setup_accelerated_solver, setup_dense_solver"
   ]
  },
  {
   "cell_type": "markdown",
   "id": "81fdcf7f",
   "metadata": {},
   "source": [
    "# Check Correction for the Singularity in the Green's Function\n",
    "\n",
    "We want to use a regular grid to discretize our Green's function, but the Green's function has a singularity at $x=0$ and the regular grid has a grid point at $x=0$. \n",
    "\n",
    "The function `setup_accelerated_solver()` has an option `diag_correction`. If set to True, the setup will involve computing a correction for the singularity, which will be inserted at $x=0$. Otherwise, we will replace the singularity with 0. \n",
    "\n",
    "This notebook is meant to test the accuracy of that correction. We define a test function $f(x)$, which is a rapidly-decaying Gaussian. To evaluate the accuracy of the correction, we want to compute the expression\n",
    "\n",
    "$$ \\int_{x=-1/2}^{1/2} f(x) G(x) dx = (f \\star G)(0) $$\n",
    "\n",
    "We compute the expression multiple different ways:\n",
    " * `G_apply` which uses the computed correction for the singularity.\n",
    " * `G_apply` without the correction for the singularity.\n",
    " * Adaptive integration using `scipy`. We treat this as the ground-truth value of the above integral."
   ]
  },
  {
   "cell_type": "code",
   "execution_count": null,
   "id": "7478601c",
   "metadata": {},
   "outputs": [],
   "source": []
  },
  {
   "cell_type": "markdown",
   "id": "058e1ade",
   "metadata": {},
   "source": [
    "# Set up things for fast G apply"
   ]
  },
  {
   "cell_type": "code",
   "execution_count": 4,
   "id": "be9683e0",
   "metadata": {},
   "outputs": [],
   "source": [
    "N_PIXELS = 50\n",
    "SPATIAL_DOMAIN_MAX = 0.5\n",
    "WAVENUMBER = 5\n",
    "RECEIVER_RADIUS = 100"
   ]
  },
  {
   "cell_type": "code",
   "execution_count": 5,
   "id": "64a4c345",
   "metadata": {},
   "outputs": [],
   "source": [
    "frequency = 2 * np.pi * WAVENUMBER\n",
    "source_receiver_directions = np.linspace(0, 2 * np.pi, N_PIXELS + 1)[:N_PIXELS]\n",
    "\n",
    "x = np.linspace(\n",
    "    -SPATIAL_DOMAIN_MAX, SPATIAL_DOMAIN_MAX, num=N_PIXELS, endpoint=False\n",
    ")\n",
    "h = x[1] - x[0]\n"
   ]
  },
  {
   "cell_type": "markdown",
   "id": "5c0606cf",
   "metadata": {},
   "source": [
    "# Define utility functions"
   ]
  },
  {
   "cell_type": "code",
   "execution_count": 6,
   "id": "268ef2fe",
   "metadata": {},
   "outputs": [],
   "source": [
    "def _gaussian(rad: np.ndarray, sigma: float) -> np.ndarray:\n",
    "    return np.exp(-1 * np.square(rad) / (sigma**2))\n"
   ]
  },
  {
   "cell_type": "markdown",
   "id": "c403f7a5",
   "metadata": {},
   "source": [
    "# Define a grid and do the analytic integral"
   ]
  },
  {
   "cell_type": "code",
   "execution_count": 7,
   "id": "96ab3005",
   "metadata": {},
   "outputs": [
    {
     "name": "stdout",
     "output_type": "stream",
     "text": [
      "0.1\n"
     ]
    }
   ],
   "source": [
    "SIGMA_VAL =  0.1\n",
    "print(SIGMA_VAL)\n",
    "\n",
    "def _int_eval_func(r: float) -> float:\n",
    "    abs_r = np.abs(r)\n",
    "    f = _gaussian(abs_r, SIGMA_VAL)\n",
    "    g = -1j / 4 * hankel1(0, frequency * abs_r)\n",
    "    return (f * g) * abs_r  * np.pi * 2\n",
    "\n",
    "adaptive_int_val, _ = quad(\n",
    "    _int_eval_func, 0, 0.5, complex_func=True, points=(0,)\n",
    ")\n"
   ]
  },
  {
   "cell_type": "code",
   "execution_count": 8,
   "id": "22c59c26",
   "metadata": {},
   "outputs": [
    {
     "name": "stdout",
     "output_type": "stream",
     "text": [
      "(0.0014663734926861406-0.0006660566962761515j)\n"
     ]
    }
   ],
   "source": [
    "print(adaptive_int_val)"
   ]
  },
  {
   "cell_type": "code",
   "execution_count": 9,
   "id": "1a7e3df2",
   "metadata": {},
   "outputs": [],
   "source": [
    "grid_points = np.linspace(-.5, .5, 200, endpoint=False)"
   ]
  },
  {
   "cell_type": "code",
   "execution_count": 10,
   "id": "647486bd",
   "metadata": {},
   "outputs": [],
   "source": [
    "f_evals = (_gaussian(grid_points, SIGMA_VAL))\n",
    "g_evals = -1j / 4 * hankel1(0, frequency * np.abs(grid_points))"
   ]
  },
  {
   "cell_type": "code",
   "execution_count": 25,
   "id": "cd35c9db",
   "metadata": {},
   "outputs": [
    {
     "data": {
      "image/png": "[encoded data removed]",
      "text/plain": [
       "<Figure size 640x480 with 1 Axes>"
      ]
     },
     "metadata": {},
     "output_type": "display_data"
    },
    {
     "data": {
      "text/plain": [
       "<Figure size 640x480 with 0 Axes>"
      ]
     },
     "metadata": {},
     "output_type": "display_data"
    }
   ],
   "source": [
    "plt.plot(grid_points, f_evals, '.', label='f')\n",
    "# plt.plot(grid_points, np.abs(g_evals), '.', label='G')\n",
    "# plt.plot(grid_points, np.abs(f_evals * g_evals * np.abs(grid_points)), '.', label='FGr')\n",
    "plt.yscale('log')\n",
    "plt.legend()\n",
    "plt.show()\n",
    "plt.clf()"
   ]
  },
  {
   "cell_type": "markdown",
   "id": "613c83e4",
   "metadata": {},
   "source": [
    "# Do the integration with quadrature on increasingly fine grids"
   ]
  },
  {
   "cell_type": "code",
   "execution_count": 12,
   "id": "0e87e66b",
   "metadata": {},
   "outputs": [],
   "source": [
    "N_PIXELS_ARRAY = np.array([20, 50, 100, 192])"
   ]
  },
  {
   "cell_type": "code",
   "execution_count": 13,
   "id": "e9982cc9",
   "metadata": {},
   "outputs": [
    {
     "name": "stdout",
     "output_type": "stream",
     "text": [
      "Working on N_PIXELS =  20\n",
      "Working on N_PIXELS =  50\n",
      "Working on N_PIXELS =  100\n",
      "Working on N_PIXELS =  192\n"
     ]
    }
   ],
   "source": [
    "solver_obj_lst = []\n",
    "for x in N_PIXELS_ARRAY:\n",
    "    print(\"Working on N_PIXELS = \", x)\n",
    "    solver_obj_lst.append(setup_accelerated_solver(x, \n",
    "                                           SPATIAL_DOMAIN_MAX, \n",
    "                                           WAVENUMBER, \n",
    "                                           RECEIVER_RADIUS, \n",
    "                                           diag_correction=False))"
   ]
  },
  {
   "cell_type": "code",
   "execution_count": 14,
   "id": "069c1b98",
   "metadata": {
    "scrolled": false
   },
   "outputs": [
    {
     "name": "stdout",
     "output_type": "stream",
     "text": [
      "N_pixels: 20, err: 0.44486298051148354, val: (0.0018166767363666703-4.105669693477692e-05j)\n",
      "N_pixels: 50, err: 0.09676122421969192, val: (0.0015858968605999212-0.0005660566962809027j)\n",
      "N_pixels: 100, err: 0.029857112822518423, val: (0.0015074503654021023-0.0006410566962776071j)\n",
      "N_pixels: 192, err: 0.009641955667138357, val: (0.0014803432836806955-0.0006592750122489151j)\n"
     ]
    }
   ],
   "source": [
    "val_lst = []\n",
    "err_lst_no_diag_correction = []\n",
    "for i, solver_obj in enumerate(solver_obj_lst):\n",
    "    nrms = np.linalg.norm(solver_obj.domain_points_arr, axis=-1)\n",
    "    bool_arr = nrms < 0.5\n",
    "    bin_arr = bool_arr.astype(np.float32)\n",
    "    scattering_obj = _gaussian(nrms, SIGMA_VAL) * bin_arr\n",
    "    \n",
    "    zero_idx = np.argwhere(nrms == 0)[0, 0]\n",
    "    \n",
    "    s = torch.from_numpy(scattering_obj.flatten()).unsqueeze(-1)\n",
    "    out_mat = solver_obj._G_apply(s).cpu().numpy().reshape(scattering_obj.shape)\n",
    "    out_val = out_mat[zero_idx, zero_idx]\n",
    "\n",
    "    val = out_val\n",
    "    err = np.abs(val - adaptive_int_val) / np.abs(adaptive_int_val)\n",
    "    val_lst.append(val)\n",
    "    err_lst_no_diag_correction.append(err)\n",
    "    print(f\"N_pixels: {solver_obj.N}, err: {err}, val: {val}\")"
   ]
  },
  {
   "cell_type": "code",
   "execution_count": 15,
   "id": "18729fc4",
   "metadata": {},
   "outputs": [
    {
     "name": "stdout",
     "output_type": "stream",
     "text": [
      "Working on N_PIXELS =  20\n",
      "Working on N_PIXELS =  50\n",
      "Working on N_PIXELS =  100\n",
      "Working on N_PIXELS =  192\n"
     ]
    }
   ],
   "source": [
    "solver_obj_lst = []\n",
    "for x in N_PIXELS_ARRAY:\n",
    "    print(\"Working on N_PIXELS = \", x)\n",
    "    solver_obj_lst.append(setup_accelerated_solver(x, \n",
    "                                           SPATIAL_DOMAIN_MAX, \n",
    "                                           WAVENUMBER, \n",
    "                                           RECEIVER_RADIUS, \n",
    "                                           diag_correction=True))"
   ]
  },
  {
   "cell_type": "code",
   "execution_count": 16,
   "id": "2164ad38",
   "metadata": {
    "scrolled": false
   },
   "outputs": [
    {
     "name": "stdout",
     "output_type": "stream",
     "text": [
      "N_pixels: 20, err: 0.007655182185611077, val: (0.0014540444118286376-0.0006660566969347442j)\n",
      "N_pixels: 50, err: 0.00015709708056510044, val: (0.0014661204794250838-0.0006660566962808985j)\n",
      "N_pixels: 100, err: 9.542816554639163e-06, val: (0.0014663581234690458-0.0006660566962776059j)\n",
      "N_pixels: 192, err: 6.974415166953e-07, val: (0.0014663723694192288-0.000666056696276691j)\n"
     ]
    }
   ],
   "source": [
    "val_lst = []\n",
    "err_lst = []\n",
    "for i, solver_obj in enumerate(solver_obj_lst):\n",
    "    nrms = np.linalg.norm(solver_obj.domain_points_arr, axis=-1)\n",
    "    bool_arr = nrms < 0.5\n",
    "    bin_arr = bool_arr.astype(np.float32)\n",
    "    scattering_obj = _gaussian(nrms, SIGMA_VAL) * bin_arr\n",
    "    \n",
    "    zero_idx = np.argwhere(nrms == 0)[0, 0]\n",
    "    \n",
    "    s = scattering_obj.flatten()\n",
    "    s_torch = torch.from_numpy(s).unsqueeze(-1)\n",
    "    \n",
    "    out_mat = solver_obj._G_apply(s_torch).cpu().numpy().reshape(scattering_obj.shape)\n",
    "    out_val = out_mat[zero_idx, zero_idx]\n",
    "\n",
    "    val = out_val\n",
    "    err = np.abs(val - adaptive_int_val) / np.abs(adaptive_int_val)\n",
    "    val_lst.append(val)\n",
    "    err_lst.append(err)\n",
    "    print(f\"N_pixels: {solver_obj.N}, err: {err}, val: {val}\")"
   ]
  },
  {
   "cell_type": "markdown",
   "id": "be54f77f",
   "metadata": {},
   "source": [
    "# Plot"
   ]
  },
  {
   "cell_type": "code",
   "execution_count": 17,
   "id": "8489a95a",
   "metadata": {},
   "outputs": [
    {
     "data": {
      "image/png": "[encoded data removed]",
      "text/plain": [
       "<Figure size 640x480 with 1 Axes>"
      ]
     },
     "metadata": {},
     "output_type": "display_data"
    }
   ],
   "source": [
    "fig, ax = plt.subplots()\n",
    "fig.patch.set_facecolor('white')\n",
    "SIZE = 7\n",
    "\n",
    "ax.plot(N_PIXELS_ARRAY, \n",
    "        err_lst_no_diag_correction, \n",
    "        '.', \n",
    "        markersize=SIZE, \n",
    "        label='No diagonal correction')\n",
    "\n",
    "ax.plot(N_PIXELS_ARRAY, err_lst, '.', markersize=SIZE, label='With diagonal correction')\n",
    "ax.set_xlabel('# Discretization points')\n",
    "ax.set_ylabel('Relative L2 error')\n",
    "ax.set_xscale('log')\n",
    "ax.set_yscale('log')\n",
    "ax.legend()\n",
    "plt.show()"
   ]
  },
  {
   "cell_type": "markdown",
   "id": "c57ce097",
   "metadata": {},
   "source": [
    "# Compute slopes in log-log space"
   ]
  },
  {
   "cell_type": "code",
   "execution_count": 18,
   "id": "0a068b6e",
   "metadata": {},
   "outputs": [],
   "source": [
    "log_n = np.log10(N_PIXELS_ARRAY)\n",
    "log_err = np.log10(err_lst)\n",
    "log_err_no_diag = np.log10(err_lst_no_diag_correction)"
   ]
  },
  {
   "cell_type": "code",
   "execution_count": 19,
   "id": "1cc93a9c",
   "metadata": {},
   "outputs": [],
   "source": [
    "m, b = np.polyfit(log_n, log_err, 1)"
   ]
  },
  {
   "cell_type": "code",
   "execution_count": 20,
   "id": "da27ad26",
   "metadata": {},
   "outputs": [
    {
     "data": {
      "text/plain": [
       "3.212199641696425"
      ]
     },
     "execution_count": 20,
     "metadata": {},
     "output_type": "execute_result"
    }
   ],
   "source": [
    "b"
   ]
  },
  {
   "cell_type": "code",
   "execution_count": 21,
   "id": "9f60f92f",
   "metadata": {},
   "outputs": [],
   "source": [
    "m_no, b_no = np.polyfit(log_n, log_err_no_diag, 1)"
   ]
  },
  {
   "cell_type": "code",
   "execution_count": 22,
   "id": "1327637f",
   "metadata": {},
   "outputs": [
    {
     "name": "stdout",
     "output_type": "stream",
     "text": [
      "-4.111527123454781\n",
      "-1.6930701626682367\n"
     ]
    }
   ],
   "source": [
    "print(m)\n",
    "print(m_no)"
   ]
  },
  {
   "cell_type": "code",
   "execution_count": 24,
   "id": "739aa1f7",
   "metadata": {},
   "outputs": [
    {
     "data": {
      "image/png": "[encoded data removed]",
      "text/plain": [
       "<Figure size 640x480 with 1 Axes>"
      ]
     },
     "metadata": {},
     "output_type": "display_data"
    }
   ],
   "source": [
    "fig, ax = plt.subplots()\n",
    "fig.patch.set_facecolor('white')\n",
    "SIZE = 12\n",
    "\n",
    "xvals = np.linspace(log_n[0], log_n[-1], 100)\n",
    "\n",
    "ax.plot(xvals, m_no * xvals + b_no, '--', color='black')\n",
    "ax.plot(xvals, m * xvals + b, '--', color='black')\n",
    "\n",
    "ax.plot(log_n, log_err_no_diag, '.', color='blue', markersize=SIZE, label='No diagonal correction')\n",
    "ax.plot(log_n, log_err, '.', color='orange', markersize=SIZE, label='With diagonal correction')\n",
    "ax.set_xlabel('Log10(# Discretization points)')\n",
    "ax.set_ylabel('Log10(Relative L2 error)')\n",
    "# ax.set_xscale('log')\n",
    "# ax.set_yscale('log')\n",
    "ax.legend()\n",
    "plt.show()"
   ]
  },
  {
   "cell_type": "code",
   "execution_count": null,
   "id": "824698aa",
   "metadata": {},
   "outputs": [],
   "source": []
  }
 ],
 "metadata": {
  "kernelspec": {
   "display_name": "Python 3 (ipykernel)",
   "language": "python",
   "name": "python3"
  },
  "language_info": {
   "codemirror_mode": {
    "name": "ipython",
    "version": 3
   },
   "file_extension": ".py",
   "mimetype": "text/x-python",
   "name": "python",
   "nbconvert_exporter": "python",
   "pygments_lexer": "ipython3",
   "version": "3.10.13"
  }
 },
 "nbformat": 4,
 "nbformat_minor": 5
}
